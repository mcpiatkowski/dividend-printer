{
 "cells": [
  {
   "cell_type": "code",
   "outputs": [],
   "source": [
    "from dotenv import load_dotenv\n",
    "\n",
    "load_dotenv();"
   ],
   "metadata": {
    "collapsed": false,
    "ExecuteTime": {
     "end_time": "2024-02-22T18:53:36.882774Z",
     "start_time": "2024-02-22T18:53:36.872057Z"
    }
   },
   "id": "5b5646ed185ffb86",
   "execution_count": 1
  },
  {
   "cell_type": "markdown",
   "source": [
    "# Allocation"
   ],
   "metadata": {
    "collapsed": false
   },
   "id": "a8893781ed980625"
  },
  {
   "cell_type": "code",
   "outputs": [],
   "source": [
    "from db_manager.allocation import create_allocation_dataframe\n",
    "\n",
    "allocation = create_allocation_dataframe()"
   ],
   "metadata": {
    "collapsed": false,
    "ExecuteTime": {
     "end_time": "2024-02-22T18:53:39.603510Z",
     "start_time": "2024-02-22T18:53:39.010599Z"
    }
   },
   "id": "8084598a41c0dcd5",
   "execution_count": 2
  },
  {
   "cell_type": "code",
   "execution_count": 9,
   "id": "initial_id",
   "metadata": {
    "collapsed": true,
    "ExecuteTime": {
     "end_time": "2024-02-22T18:51:46.727755Z",
     "start_time": "2024-02-22T18:51:46.320238Z"
    }
   },
   "outputs": [],
   "source": [
    "from db_manager.allocation import (\n",
    "    create_allocation_table,\n",
    "    create_allocation_dataframe,\n",
    "    insert_into_allocation_table\n",
    ")\n",
    "\n",
    "create_allocation_table()\n",
    "_allocation = create_allocation_dataframe()\n",
    "insert_into_allocation_table(_allocation)"
   ]
  },
  {
   "cell_type": "markdown",
   "source": [
    "# Dividends"
   ],
   "metadata": {
    "collapsed": false
   },
   "id": "3847556a1ca6e3e4"
  },
  {
   "cell_type": "code",
   "outputs": [
    {
     "name": "stdout",
     "output_type": "stream",
     "text": [
      "SNPS\n",
      "Stock SNPS pays no dividend.\n",
      "PL\n",
      "Stock PL pays no dividend.\n",
      "JNJ\n",
      "KO\n",
      "NEE\n",
      "SNOW\n",
      "Stock SNOW pays no dividend.\n",
      "SPGI\n",
      "TSLA\n",
      "Stock TSLA pays no dividend.\n",
      "APD\n",
      "PG\n",
      "XOM\n",
      "ITW\n",
      "HCP\n",
      "Stock HCP pays no dividend.\n",
      "ABT\n",
      "MCD\n"
     ]
    }
   ],
   "source": [
    "from db_manager.dividend import create_dividend_table, update_dividends\n",
    "\n",
    "create_dividend_table()\n",
    "update_dividends(allocation)"
   ],
   "metadata": {
    "collapsed": false,
    "ExecuteTime": {
     "end_time": "2024-02-22T18:49:47.428112Z",
     "start_time": "2024-02-22T18:49:36.003387Z"
    }
   },
   "id": "e34ad0f05cae9024",
   "execution_count": 6
  },
  {
   "cell_type": "markdown",
   "source": [
    "# Income statement"
   ],
   "metadata": {
    "collapsed": false
   },
   "id": "7d3bc16751cf5f5b"
  },
  {
   "cell_type": "code",
   "outputs": [
    {
     "name": "stdout",
     "output_type": "stream",
     "text": [
      "SNPS\n",
      "PL\n",
      "JNJ\n",
      "KO\n",
      "NEE\n",
      "SNOW\n",
      "SPGI\n",
      "TSLA\n",
      "APD\n",
      "PG\n",
      "XOM\n",
      "ITW\n",
      "HCP\n",
      "ABT\n",
      "MCD\n"
     ]
    }
   ],
   "source": [
    "from db_manager.income_statement import create_income_statement_table, update_income_statement\n",
    "\n",
    "create_income_statement_table()\n",
    "update_income_statement(allocation)"
   ],
   "metadata": {
    "collapsed": false,
    "ExecuteTime": {
     "end_time": "2024-02-22T18:53:53.181064Z",
     "start_time": "2024-02-22T18:53:42.303438Z"
    }
   },
   "id": "b1fcd115923c36a5",
   "execution_count": 3
  },
  {
   "cell_type": "markdown",
   "source": [
    "# Info"
   ],
   "metadata": {
    "collapsed": false
   },
   "id": "9436ae3654d137f4"
  },
  {
   "cell_type": "code",
   "outputs": [
    {
     "name": "stdout",
     "output_type": "stream",
     "text": [
      "SNPS\n",
      "PL\n",
      "JNJ\n",
      "KO\n",
      "NEE\n",
      "SNOW\n",
      "SPGI\n",
      "TSLA\n",
      "APD\n",
      "PG\n",
      "XOM\n",
      "ITW\n",
      "HCP\n",
      "ABT\n",
      "MCD\n"
     ]
    }
   ],
   "source": [
    "from db_manager.info import create_info_table, update_info\n",
    "\n",
    "create_info_table()\n",
    "update_info(allocation)"
   ],
   "metadata": {
    "collapsed": false,
    "ExecuteTime": {
     "end_time": "2024-02-22T18:50:49.535763Z",
     "start_time": "2024-02-22T18:50:38.483256Z"
    }
   },
   "id": "18947244607e07e2",
   "execution_count": 8
  },
  {
   "cell_type": "code",
   "outputs": [
    {
     "data": {
      "text/plain": "   SYMBOL   QUANTITY  AVERAGE_PRICE RECORD_DATE\n0    SNPS   0.072072     555.002095  2024-02-22\n1      PL  18.433130       2.170006  2024-02-22\n2     JNJ   0.253244     157.950435  2024-02-22\n3      KO   0.665223      60.130212  2024-02-22\n4     NEE   0.713010      56.100195  2024-02-22\n5    SNOW   0.183798     217.630580  2024-02-22\n6    SPGI   0.087368     457.831436  2024-02-22\n7    TSLA   0.208138     192.180557  2024-02-22\n8     APD   0.186976     213.930628  2024-02-22\n9      PG   0.250422     159.730439  2024-02-22\n10    XOM   0.393390     101.680266  2024-02-22\n11    ITW   0.156525     255.550721  2024-02-22\n12    HCP   1.728604      23.140060  2024-02-22\n13    ABT   0.353418     113.180298  2024-02-22\n14    MCD   0.139116     287.530865  2024-02-22",
      "text/html": "<div>\n<style scoped>\n    .dataframe tbody tr th:only-of-type {\n        vertical-align: middle;\n    }\n\n    .dataframe tbody tr th {\n        vertical-align: top;\n    }\n\n    .dataframe thead th {\n        text-align: right;\n    }\n</style>\n<table border=\"1\" class=\"dataframe\">\n  <thead>\n    <tr style=\"text-align: right;\">\n      <th></th>\n      <th>SYMBOL</th>\n      <th>QUANTITY</th>\n      <th>AVERAGE_PRICE</th>\n      <th>RECORD_DATE</th>\n    </tr>\n  </thead>\n  <tbody>\n    <tr>\n      <th>0</th>\n      <td>SNPS</td>\n      <td>0.072072</td>\n      <td>555.002095</td>\n      <td>2024-02-22</td>\n    </tr>\n    <tr>\n      <th>1</th>\n      <td>PL</td>\n      <td>18.433130</td>\n      <td>2.170006</td>\n      <td>2024-02-22</td>\n    </tr>\n    <tr>\n      <th>2</th>\n      <td>JNJ</td>\n      <td>0.253244</td>\n      <td>157.950435</td>\n      <td>2024-02-22</td>\n    </tr>\n    <tr>\n      <th>3</th>\n      <td>KO</td>\n      <td>0.665223</td>\n      <td>60.130212</td>\n      <td>2024-02-22</td>\n    </tr>\n    <tr>\n      <th>4</th>\n      <td>NEE</td>\n      <td>0.713010</td>\n      <td>56.100195</td>\n      <td>2024-02-22</td>\n    </tr>\n    <tr>\n      <th>5</th>\n      <td>SNOW</td>\n      <td>0.183798</td>\n      <td>217.630580</td>\n      <td>2024-02-22</td>\n    </tr>\n    <tr>\n      <th>6</th>\n      <td>SPGI</td>\n      <td>0.087368</td>\n      <td>457.831436</td>\n      <td>2024-02-22</td>\n    </tr>\n    <tr>\n      <th>7</th>\n      <td>TSLA</td>\n      <td>0.208138</td>\n      <td>192.180557</td>\n      <td>2024-02-22</td>\n    </tr>\n    <tr>\n      <th>8</th>\n      <td>APD</td>\n      <td>0.186976</td>\n      <td>213.930628</td>\n      <td>2024-02-22</td>\n    </tr>\n    <tr>\n      <th>9</th>\n      <td>PG</td>\n      <td>0.250422</td>\n      <td>159.730439</td>\n      <td>2024-02-22</td>\n    </tr>\n    <tr>\n      <th>10</th>\n      <td>XOM</td>\n      <td>0.393390</td>\n      <td>101.680266</td>\n      <td>2024-02-22</td>\n    </tr>\n    <tr>\n      <th>11</th>\n      <td>ITW</td>\n      <td>0.156525</td>\n      <td>255.550721</td>\n      <td>2024-02-22</td>\n    </tr>\n    <tr>\n      <th>12</th>\n      <td>HCP</td>\n      <td>1.728604</td>\n      <td>23.140060</td>\n      <td>2024-02-22</td>\n    </tr>\n    <tr>\n      <th>13</th>\n      <td>ABT</td>\n      <td>0.353418</td>\n      <td>113.180298</td>\n      <td>2024-02-22</td>\n    </tr>\n    <tr>\n      <th>14</th>\n      <td>MCD</td>\n      <td>0.139116</td>\n      <td>287.530865</td>\n      <td>2024-02-22</td>\n    </tr>\n  </tbody>\n</table>\n</div>"
     },
     "execution_count": 9,
     "metadata": {},
     "output_type": "execute_result"
    }
   ],
   "source": [
    "allocation"
   ],
   "metadata": {
    "collapsed": false,
    "ExecuteTime": {
     "end_time": "2024-02-22T18:13:34.542076Z",
     "start_time": "2024-02-22T18:13:34.530567Z"
    }
   },
   "id": "d414e7d7206bdb17",
   "execution_count": 9
  }
 ],
 "metadata": {
  "kernelspec": {
   "display_name": "Python 3",
   "language": "python",
   "name": "python3"
  },
  "language_info": {
   "codemirror_mode": {
    "name": "ipython",
    "version": 2
   },
   "file_extension": ".py",
   "mimetype": "text/x-python",
   "name": "python",
   "nbconvert_exporter": "python",
   "pygments_lexer": "ipython2",
   "version": "2.7.6"
  }
 },
 "nbformat": 4,
 "nbformat_minor": 5
}
