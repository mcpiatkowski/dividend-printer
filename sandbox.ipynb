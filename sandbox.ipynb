{
 "cells": [
  {
   "cell_type": "code",
   "outputs": [],
   "source": [
    "from dotenv import load_dotenv\n",
    "\n",
    "load_dotenv();"
   ],
   "metadata": {
    "collapsed": false,
    "ExecuteTime": {
     "end_time": "2024-02-22T18:53:36.882774Z",
     "start_time": "2024-02-22T18:53:36.872057Z"
    }
   },
   "id": "5b5646ed185ffb86",
   "execution_count": 1
  },
  {
   "cell_type": "markdown",
   "source": [
    "# Allocation"
   ],
   "metadata": {
    "collapsed": false
   },
   "id": "a8893781ed980625"
  },
  {
   "cell_type": "code",
   "outputs": [],
   "source": [
    "from db_manager.allocation import create_allocation_dataframe\n",
    "\n",
    "allocation = create_allocation_dataframe()"
   ],
   "metadata": {
    "collapsed": false,
    "ExecuteTime": {
     "end_time": "2024-02-22T18:53:39.603510Z",
     "start_time": "2024-02-22T18:53:39.010599Z"
    }
   },
   "id": "8084598a41c0dcd5",
   "execution_count": 2
  },
  {
   "cell_type": "code",
   "execution_count": 9,
   "id": "initial_id",
   "metadata": {
    "collapsed": true,
    "ExecuteTime": {
     "end_time": "2024-02-22T18:51:46.727755Z",
     "start_time": "2024-02-22T18:51:46.320238Z"
    }
   },
   "outputs": [],
   "source": [
    "from db_manager.allocation import (\n",
    "    create_allocation_table,\n",
    "    create_allocation_dataframe,\n",
    "    insert_into_allocation_table\n",
    ")\n",
    "\n",
    "create_allocation_table()\n",
    "_allocation = create_allocation_dataframe()\n",
    "insert_into_allocation_table(_allocation)"
   ]
  },
  {
   "cell_type": "markdown",
   "source": [
    "# Dividends"
   ],
   "metadata": {
    "collapsed": false
   },
   "id": "3847556a1ca6e3e4"
  },
  {
   "cell_type": "code",
   "outputs": [
    {
     "name": "stdout",
     "output_type": "stream",
     "text": [
      "SNPS\n",
      "Stock SNPS pays no dividend.\n",
      "PL\n",
      "Stock PL pays no dividend.\n",
      "JNJ\n",
      "KO\n",
      "NEE\n",
      "SNOW\n",
      "Stock SNOW pays no dividend.\n",
      "SPGI\n",
      "TSLA\n",
      "Stock TSLA pays no dividend.\n",
      "APD\n",
      "PG\n",
      "XOM\n",
      "ITW\n",
      "HCP\n",
      "Stock HCP pays no dividend.\n",
      "ABT\n",
      "MCD\n"
     ]
    }
   ],
   "source": [
    "from db_manager.dividend import create_dividend_table, update_dividends\n",
    "\n",
    "create_dividend_table()\n",
    "update_dividends(allocation)"
   ],
   "metadata": {
    "collapsed": false,
    "ExecuteTime": {
     "end_time": "2024-02-22T18:49:47.428112Z",
     "start_time": "2024-02-22T18:49:36.003387Z"
    }
   },
   "id": "e34ad0f05cae9024",
   "execution_count": 6
  },
  {
   "cell_type": "markdown",
   "source": [
    "# Income statement"
   ],
   "metadata": {
    "collapsed": false
   },
   "id": "7d3bc16751cf5f5b"
  },
  {
   "cell_type": "code",
   "outputs": [
    {
     "name": "stdout",
     "output_type": "stream",
     "text": [
      "SNPS\n",
      "PL\n",
      "JNJ\n",
      "KO\n",
      "NEE\n",
      "SNOW\n",
      "SPGI\n",
      "TSLA\n",
      "APD\n",
      "PG\n",
      "XOM\n",
      "ITW\n",
      "HCP\n",
      "ABT\n",
      "MCD\n"
     ]
    }
   ],
   "source": [
    "from db_manager.income_statement import create_income_statement_table, update_income_statement\n",
    "\n",
    "create_income_statement_table()\n",
    "update_income_statement(allocation)"
   ],
   "metadata": {
    "collapsed": false,
    "ExecuteTime": {
     "end_time": "2024-02-22T18:53:53.181064Z",
     "start_time": "2024-02-22T18:53:42.303438Z"
    }
   },
   "id": "b1fcd115923c36a5",
   "execution_count": 3
  },
  {
   "cell_type": "markdown",
   "source": [
    "# Info"
   ],
   "metadata": {
    "collapsed": false
   },
   "id": "9436ae3654d137f4"
  },
  {
   "cell_type": "code",
   "outputs": [
    {
     "name": "stdout",
     "output_type": "stream",
     "text": [
      "SNPS\n",
      "PL\n",
      "JNJ\n",
      "KO\n",
      "NEE\n",
      "SNOW\n",
      "SPGI\n",
      "TSLA\n",
      "APD\n",
      "PG\n",
      "XOM\n",
      "ITW\n",
      "HCP\n",
      "ABT\n",
      "MCD\n"
     ]
    }
   ],
   "source": [
    "from db_manager.info import create_info_table, update_info\n",
    "\n",
    "create_info_table()\n",
    "update_info(allocation)"
   ],
   "metadata": {
    "collapsed": false,
    "ExecuteTime": {
     "end_time": "2024-02-22T18:50:49.535763Z",
     "start_time": "2024-02-22T18:50:38.483256Z"
    }
   },
   "id": "18947244607e07e2",
   "execution_count": 8
  },
  {
   "cell_type": "markdown",
   "source": [
    "# Watchlist"
   ],
   "metadata": {
    "collapsed": false
   },
   "id": "7a35a0f425066532"
  },
  {
   "cell_type": "code",
   "outputs": [],
   "source": [
    "from db_manager.watchlist import update_watchlist"
   ],
   "metadata": {
    "collapsed": false,
    "ExecuteTime": {
     "end_time": "2024-02-22T19:10:58.515647Z",
     "start_time": "2024-02-22T19:10:58.164683Z"
    }
   },
   "id": "4d510b71460e1fbe",
   "execution_count": 2
  },
  {
   "cell_type": "code",
   "outputs": [],
   "source": [
    "update_watchlist([\"CAT\", \"UGI\", \"ROK\", \"MGX\", \"CSCO\", \"MSCI\", \"ULVR\"])"
   ],
   "metadata": {
    "collapsed": false,
    "ExecuteTime": {
     "end_time": "2024-02-22T19:10:59.535894Z",
     "start_time": "2024-02-22T19:10:59.526701Z"
    }
   },
   "id": "212658285b81a4c9",
   "execution_count": 3
  },
  {
   "cell_type": "code",
   "outputs": [],
   "source": [],
   "metadata": {
    "collapsed": false
   },
   "id": "9b15276205c1526a"
  }
 ],
 "metadata": {
  "kernelspec": {
   "display_name": "Python 3",
   "language": "python",
   "name": "python3"
  },
  "language_info": {
   "codemirror_mode": {
    "name": "ipython",
    "version": 2
   },
   "file_extension": ".py",
   "mimetype": "text/x-python",
   "name": "python",
   "nbconvert_exporter": "python",
   "pygments_lexer": "ipython2",
   "version": "2.7.6"
  }
 },
 "nbformat": 4,
 "nbformat_minor": 5
}
